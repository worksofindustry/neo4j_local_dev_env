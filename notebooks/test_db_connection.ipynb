{
 "cells": [
  {
   "cell_type": "markdown",
   "id": "7c1065cb",
   "metadata": {},
   "source": [
    "## This notebook checks that Python is able to connect to the graph.  Assuming this block runs (on an empty database) and returns 0 nodes in the graph, you are good to go!"
   ]
  },
  {
   "cell_type": "code",
   "execution_count": 1,
   "id": "2daad026",
   "metadata": {},
   "outputs": [],
   "source": [
    "from py2neo import Node, Graph"
   ]
  },
  {
   "cell_type": "code",
   "execution_count": 2,
   "id": "1499a435",
   "metadata": {},
   "outputs": [
    {
     "name": "stdout",
     "output_type": "stream",
     "text": [
      "Number of nodes in graph:  0\n"
     ]
    }
   ],
   "source": [
    "graph = Graph(\"bolt://neo4j:7687\", name=\"neo4j\", password=\"1234\")\n",
    "print('Number of nodes in graph: ', graph.nodes.match('Node').count())"
   ]
  },
  {
   "cell_type": "code",
   "execution_count": null,
   "id": "6dc77844",
   "metadata": {},
   "outputs": [],
   "source": []
  }
 ],
 "metadata": {
  "kernelspec": {
   "display_name": "Python 3 (ipykernel)",
   "language": "python",
   "name": "python3"
  },
  "language_info": {
   "codemirror_mode": {
    "name": "ipython",
    "version": 3
   },
   "file_extension": ".py",
   "mimetype": "text/x-python",
   "name": "python",
   "nbconvert_exporter": "python",
   "pygments_lexer": "ipython3",
   "version": "3.9.7"
  }
 },
 "nbformat": 4,
 "nbformat_minor": 5
}
